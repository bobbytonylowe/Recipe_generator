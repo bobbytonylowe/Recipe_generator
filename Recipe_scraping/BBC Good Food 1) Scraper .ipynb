{
 "cells": [
  {
   "cell_type": "code",
   "execution_count": 10,
   "metadata": {},
   "outputs": [
    {
     "name": "stderr",
     "output_type": "stream",
     "text": [
      "[nltk_data] Downloading package stopwords to\n",
      "[nltk_data]     C:\\Users\\robert.lowe\\AppData\\Roaming\\nltk_data...\n",
      "[nltk_data]   Package stopwords is already up-to-date!\n"
     ]
    }
   ],
   "source": [
    "import requests\n",
    "import urllib.request\n",
    "import urllib.parse\n",
    "import urllib.error\n",
    "from bs4 import BeautifulSoup\n",
    "import ssl\n",
    "import json\n",
    "import pandas as pd\n",
    "from selenium import webdriver\n",
    "from selenium.webdriver.common.action_chains import ActionChains\n",
    "import time\n",
    "import os\n",
    "import re\n",
    "from urllib.request import urlopen\n",
    "import numpy as np\n",
    "from urllib.request import Request, urlopen\n",
    "import nltk\n",
    "from nltk.corpus import stopwords\n",
    "import unicodedata\n",
    "nltk.download('stopwords')\n",
    "from scrapy.http import TextResponse\n",
    "import datetime\n",
    "from scrapy import Selector"
   ]
  },
  {
   "cell_type": "code",
   "execution_count": 2,
   "metadata": {},
   "outputs": [],
   "source": [
    "link = 'https://www.bbcgoodfood.com/recipes/you-it-katsu-curry'\n",
    "req = Request(link, headers={'User-Agent': 'Mozilla/5.0 (Windows NT 10.0; Win64; x64) AppleWebKit/537.36 (KHTML, like Gecko) Chrome/70.0.3538.102 Safari/537.36'})\n",
    "webpage = urlopen(req).read()\n",
    "soup = BeautifulSoup(webpage, \"html.parser\")"
   ]
  },
  {
   "cell_type": "code",
   "execution_count": 3,
   "metadata": {},
   "outputs": [],
   "source": [
    "def remove_hover_link(soup):\n",
    "    article= soup.find_all('article', class_='node node-glossary-item node-teaser node-teaser clearfix main row grid-padding')\n",
    "    for a in article:\n",
    "        a.p.string= ''\n",
    "    recipes = []\n",
    "    for p in soup.findAll(\"li\", class_= \"ingredients-list__item\"):\n",
    "        if p.findAll(\"article\", class_='node node-glossary-item node-teaser node-teaser clearfix main row grid-padding'):\n",
    "            pass\n",
    "        recipes.append(p.get_text())\n",
    "    ingredients = []   \n",
    "    for rep in recipes:   \n",
    "      a = re.sub(r'\\(.*\\)', '',rep)\n",
    "      ingredients.append(a)\n",
    "    clean = []\n",
    "    for x in ingredients:   \n",
    "        cleaner = re.sub(\",.*$\", \"\", x)\n",
    "        clean.append(cleaner)\n",
    "    return \", \".join(clean)\n"
   ]
  },
  {
   "cell_type": "code",
   "execution_count": 4,
   "metadata": {},
   "outputs": [
    {
     "data": {
      "text/plain": [
       "'4 tbsp rapeseed oil or vegetable oil Rapeseed oil , 2 x 200g pouches cooked rice  Rice r-eye-s , ½ large cucumber, handful mint leaves or coriander leaves, lime wedges, 1 tbsp rapeseed oil or vegetable oil Rapeseed oil , 2 onions, 2 large carrots, 2 garlic cloves, thumb-sized piece ginger, 1 tbsp curry powder, ½ tsp ground turmeric, 400ml can coconut milk Coconut milk ko-ko-nut mill-k , 2 tsp maple syrup  Maple syrup may-pul sir-rup , 1 tbsp cornflour, 8 chicken mini fillets, 200g breadcrumbs '"
      ]
     },
     "execution_count": 4,
     "metadata": {},
     "output_type": "execute_result"
    }
   ],
   "source": [
    "remove_hover_link(soup)"
   ]
  },
  {
   "cell_type": "code",
   "execution_count": 5,
   "metadata": {},
   "outputs": [],
   "source": [
    "def bbc_goodfood_scraper(link):\n",
    "    \n",
    "    \n",
    "    '''Code to scrape bbc good food recipes'''\n",
    "    try:\n",
    "        # Get recipe\n",
    "        \n",
    "        #define user agent and use BeautifulSoup to open web link\n",
    "        req = Request(link, headers={'User-Agent': 'Mozilla/5.0 (Windows NT 10.0; Win64; x64) AppleWebKit/537.36 (KHTML, like Gecko) Chrome/70.0.3538.102 Safari/537.36'})\n",
    "        webpage = urlopen(req).read()\n",
    "        soup = BeautifulSoup(webpage, \"html.parser\")\n",
    "\n",
    "        # Get title\n",
    "        title = soup.find(\"h1\", class_=\"recipe-header__title\")\n",
    "        file_name = title.text + \".txt\"\n",
    "        file = open(file_name, \"w\")\n",
    "\n",
    "        # rating\n",
    "        stars = soup.findAll(\"span\", class_=\"rate-fivestar-btn-filled\")\n",
    "        temp = str(len(stars))\n",
    "        rating = temp.replace(\"\\n\", \"\")\n",
    "        file.write(rating + \"\\n\")\n",
    "\n",
    "        # Skill level\n",
    "        skill = soup.find(\"section\", class_=\"recipe-details__item--skill-level\")\n",
    "        temp = skill.get_text()\n",
    "        level = temp.replace(\"\\n\", \"\").replace(\" \", \"\")\n",
    "        file.write(\"Difficulty: \" + level + \"\\n\")\n",
    "\n",
    "        # Serves\n",
    "        serve = soup.find(\"section\", class_=\"recipe-details__item--servings\")\n",
    "        temp = serve.get_text()\n",
    "        serving = temp.replace(\"\\n\", \"\").replace(\" \", \"\").replace(\"Serves\", \"\")\n",
    "        file.write(\"Serves: \" + serving + \"\\n\")\n",
    "\n",
    "        # prep time\n",
    "        prep = soup.find(\"span\", class_=\"recipe-details__cooking-time-prep\")\n",
    "        temp = prep.get_text()\n",
    "        prep_time = temp.replace(\"\\n\", \"\")\n",
    "        file.write(prep_time + \"\\n\")\n",
    "\n",
    "        # cooking time\n",
    "        cook = soup.find(\"span\", class_=\"recipe-details__cooking-time-cook\")\n",
    "        temp = cook.get_text()\n",
    "        cook_time = temp.replace(\"\\n\", \"\")\n",
    "        file.write(cook_time + \"\\n\")\n",
    "\n",
    "\n",
    "        # list comprehension for ingredients \n",
    "\n",
    "\n",
    "        ######################################################### method and nutrition not needed#########################################\n",
    "        # method\n",
    "        #print(\"Method\")\n",
    "        file.write(\"\\n\" + \"Method\" + \"\\n\")\n",
    "        method_counter = 0\n",
    "        for li in soup.findAll(\"li\", class_=\"method__item\"):\n",
    "            method_counter += 1\n",
    "            method_item = li.get_text().replace(\"\\n\", \"\")\n",
    "        method = [li.get_text().replace(\"\\n\", \"\") for li in soup.findAll(\"li\", class_=\"method__item\")]\n",
    "           # return method_item\n",
    "           # file.write(unicodedata.normalize('NFKD', method_item).encode('ascii', 'ignore') + \"\\n\" + \"\\n\")\n",
    "\n",
    "        # Nutrition\n",
    "        file.write(\"Nutrition \\n\")\n",
    "        nutrition = soup.find(\"ul\", class_=\"nutrition\")\n",
    "        for li in nutrition.findAll(\"li\"):\n",
    "            label = li.find(\"span\", class_=\"nutrition__label\")\n",
    "            value = li.find(\"span\", class_=\"nutrition__value\")\n",
    "            #return label.get_text() + \": \" + value.get_text()\n",
    "            file.write(label.get_text() + \": \" + value.get_text() + \"\\n\")\n",
    "\n",
    "      ######################################################### method and nutrition not needed#########################################\n",
    "\n",
    "\n",
    "        # Create a dataframe\n",
    "        d = {\n",
    "            'Title': title.text, \n",
    "             \"Rating\": rating, \n",
    "             \"Difficulty\":  level, \n",
    "             \"Serving\": serving, \n",
    "             \"Preptime\": prep_time, \n",
    "             'Cook_time': cook_time, \n",
    "             'Ingredients': remove_hover_link(soup),\n",
    "            #'Method': \" \".join(method), \n",
    "             #\"nutr\": label.get_text() + \": \" + value.get_text(),\n",
    "             \"Link\": link\n",
    "\n",
    "            }\n",
    "        df = pd.DataFrame(data=d, index=[0])\n",
    "\n",
    "        return df\n",
    "    \n",
    "    except:\n",
    "        pass\n"
   ]
  },
  {
   "cell_type": "code",
   "execution_count": 6,
   "metadata": {},
   "outputs": [
    {
     "data": {
      "text/html": [
       "<div>\n",
       "<style scoped>\n",
       "    .dataframe tbody tr th:only-of-type {\n",
       "        vertical-align: middle;\n",
       "    }\n",
       "\n",
       "    .dataframe tbody tr th {\n",
       "        vertical-align: top;\n",
       "    }\n",
       "\n",
       "    .dataframe thead th {\n",
       "        text-align: right;\n",
       "    }\n",
       "</style>\n",
       "<table border=\"1\" class=\"dataframe\">\n",
       "  <thead>\n",
       "    <tr style=\"text-align: right;\">\n",
       "      <th></th>\n",
       "      <th>Title</th>\n",
       "      <th>Rating</th>\n",
       "      <th>Difficulty</th>\n",
       "      <th>Serving</th>\n",
       "      <th>Preptime</th>\n",
       "      <th>Cook_time</th>\n",
       "      <th>Ingredients</th>\n",
       "      <th>Link</th>\n",
       "    </tr>\n",
       "  </thead>\n",
       "  <tbody>\n",
       "    <tr>\n",
       "      <th>0</th>\n",
       "      <td>Katsu curry</td>\n",
       "      <td>4</td>\n",
       "      <td>Easy</td>\n",
       "      <td>4</td>\n",
       "      <td>Prep: 25 mins</td>\n",
       "      <td>Cook: 40 mins</td>\n",
       "      <td>4 tbsp rapeseed oil or vegetable oil Rapeseed ...</td>\n",
       "      <td>https://www.bbcgoodfood.com/recipes/you-it-kat...</td>\n",
       "    </tr>\n",
       "  </tbody>\n",
       "</table>\n",
       "</div>"
      ],
      "text/plain": [
       "         Title Rating Difficulty Serving         Preptime        Cook_time  \\\n",
       "0  Katsu curry      4       Easy       4   Prep: 25 mins    Cook: 40 mins    \n",
       "\n",
       "                                         Ingredients  \\\n",
       "0  4 tbsp rapeseed oil or vegetable oil Rapeseed ...   \n",
       "\n",
       "                                                Link  \n",
       "0  https://www.bbcgoodfood.com/recipes/you-it-kat...  "
      ]
     },
     "execution_count": 6,
     "metadata": {},
     "output_type": "execute_result"
    }
   ],
   "source": [
    "bbc_goodfood_scraper('https://www.bbcgoodfood.com/recipes/you-it-katsu-curry')"
   ]
  },
  {
   "cell_type": "code",
   "execution_count": 7,
   "metadata": {},
   "outputs": [],
   "source": [
    "dfff = bbc_goodfood_scraper('https://www.bbcgoodfood.com/recipes/you-it-katsu-curry')\n",
    "dfff.to_csv('DA.csv')"
   ]
  },
  {
   "cell_type": "code",
   "execution_count": 8,
   "metadata": {},
   "outputs": [],
   "source": [
    "import pandas as pd\n",
    "\n",
    "# Open the scaped dataframe full of bbcgood food recipies\n",
    "df = pd.read_csv('C:/Users/robert.lowe/wordlist/food_new.csv')"
   ]
  },
  {
   "cell_type": "code",
   "execution_count": 9,
   "metadata": {},
   "outputs": [],
   "source": [
    "df = df.join(df['ingredients;https://www.bbcgoodfood.com/recipes;'].str.rsplit(\"ingredients;\", n=1, expand=True))"
   ]
  },
  {
   "cell_type": "code",
   "execution_count": 10,
   "metadata": {},
   "outputs": [],
   "source": [
    "df.rename(columns={1: 'Website_link'}, inplace=True)"
   ]
  },
  {
   "cell_type": "code",
   "execution_count": 11,
   "metadata": {},
   "outputs": [],
   "source": [
    "df['Website_link'] = df['Website_link'].astype(str)"
   ]
  },
  {
   "cell_type": "code",
   "execution_count": 12,
   "metadata": {},
   "outputs": [],
   "source": [
    "def rem(x):\n",
    "    return x.replace(';', '')"
   ]
  },
  {
   "cell_type": "code",
   "execution_count": 13,
   "metadata": {},
   "outputs": [],
   "source": [
    "df.Website_link = df.Website_link.apply(rem)"
   ]
  },
  {
   "cell_type": "code",
   "execution_count": 14,
   "metadata": {},
   "outputs": [
    {
     "data": {
      "text/html": [
       "<div>\n",
       "<style scoped>\n",
       "    .dataframe tbody tr th:only-of-type {\n",
       "        vertical-align: middle;\n",
       "    }\n",
       "\n",
       "    .dataframe tbody tr th {\n",
       "        vertical-align: top;\n",
       "    }\n",
       "\n",
       "    .dataframe thead th {\n",
       "        text-align: right;\n",
       "    }\n",
       "</style>\n",
       "<table border=\"1\" class=\"dataframe\">\n",
       "  <thead>\n",
       "    <tr style=\"text-align: right;\">\n",
       "      <th></th>\n",
       "      <th>ingredients;https://www.bbcgoodfood.com/recipes;</th>\n",
       "      <th>0</th>\n",
       "      <th>Website_link</th>\n",
       "    </tr>\n",
       "  </thead>\n",
       "  <tbody>\n",
       "    <tr>\n",
       "      <th>0</th>\n",
       "      <td>ingredients;https://www.bbcgoodfood.com/recipes;</td>\n",
       "      <td></td>\n",
       "      <td>https://www.bbcgoodfood.com/recipes</td>\n",
       "    </tr>\n",
       "    <tr>\n",
       "      <th>1</th>\n",
       "      <td>ingredients;https://www.bbcgoodfood.com/recipes;</td>\n",
       "      <td></td>\n",
       "      <td>https://www.bbcgoodfood.com/recipes</td>\n",
       "    </tr>\n",
       "    <tr>\n",
       "      <th>2</th>\n",
       "      <td>ingredients;https://www.bbcgoodfood.com/recipes;</td>\n",
       "      <td></td>\n",
       "      <td>https://www.bbcgoodfood.com/recipes</td>\n",
       "    </tr>\n",
       "    <tr>\n",
       "      <th>3</th>\n",
       "      <td>ingredients;https://www.bbcgoodfood.com/recipes;</td>\n",
       "      <td></td>\n",
       "      <td>https://www.bbcgoodfood.com/recipes</td>\n",
       "    </tr>\n",
       "    <tr>\n",
       "      <th>4</th>\n",
       "      <td>ingredients;https://www.bbcgoodfood.com/recipes;</td>\n",
       "      <td></td>\n",
       "      <td>https://www.bbcgoodfood.com/recipes</td>\n",
       "    </tr>\n",
       "  </tbody>\n",
       "</table>\n",
       "</div>"
      ],
      "text/plain": [
       "   ingredients;https://www.bbcgoodfood.com/recipes; 0  \\\n",
       "0  ingredients;https://www.bbcgoodfood.com/recipes;     \n",
       "1  ingredients;https://www.bbcgoodfood.com/recipes;     \n",
       "2  ingredients;https://www.bbcgoodfood.com/recipes;     \n",
       "3  ingredients;https://www.bbcgoodfood.com/recipes;     \n",
       "4  ingredients;https://www.bbcgoodfood.com/recipes;     \n",
       "\n",
       "                          Website_link  \n",
       "0  https://www.bbcgoodfood.com/recipes  \n",
       "1  https://www.bbcgoodfood.com/recipes  \n",
       "2  https://www.bbcgoodfood.com/recipes  \n",
       "3  https://www.bbcgoodfood.com/recipes  \n",
       "4  https://www.bbcgoodfood.com/recipes  "
      ]
     },
     "execution_count": 14,
     "metadata": {},
     "output_type": "execute_result"
    }
   ],
   "source": [
    "df.head()"
   ]
  },
  {
   "cell_type": "code",
   "execution_count": 15,
   "metadata": {},
   "outputs": [
    {
     "data": {
      "text/html": [
       "<div>\n",
       "<style scoped>\n",
       "    .dataframe tbody tr th:only-of-type {\n",
       "        vertical-align: middle;\n",
       "    }\n",
       "\n",
       "    .dataframe tbody tr th {\n",
       "        vertical-align: top;\n",
       "    }\n",
       "\n",
       "    .dataframe thead th {\n",
       "        text-align: right;\n",
       "    }\n",
       "</style>\n",
       "<table border=\"1\" class=\"dataframe\">\n",
       "  <thead>\n",
       "    <tr style=\"text-align: right;\">\n",
       "      <th></th>\n",
       "      <th>Website_link</th>\n",
       "    </tr>\n",
       "  </thead>\n",
       "  <tbody>\n",
       "    <tr>\n",
       "      <th>0</th>\n",
       "      <td>https://www.bbcgoodfood.com/recipes</td>\n",
       "    </tr>\n",
       "    <tr>\n",
       "      <th>1</th>\n",
       "      <td>https://www.bbcgoodfood.com/recipes</td>\n",
       "    </tr>\n",
       "    <tr>\n",
       "      <th>2</th>\n",
       "      <td>https://www.bbcgoodfood.com/recipes</td>\n",
       "    </tr>\n",
       "    <tr>\n",
       "      <th>3</th>\n",
       "      <td>https://www.bbcgoodfood.com/recipes</td>\n",
       "    </tr>\n",
       "    <tr>\n",
       "      <th>4</th>\n",
       "      <td>https://www.bbcgoodfood.com/recipes</td>\n",
       "    </tr>\n",
       "  </tbody>\n",
       "</table>\n",
       "</div>"
      ],
      "text/plain": [
       "                          Website_link\n",
       "0  https://www.bbcgoodfood.com/recipes\n",
       "1  https://www.bbcgoodfood.com/recipes\n",
       "2  https://www.bbcgoodfood.com/recipes\n",
       "3  https://www.bbcgoodfood.com/recipes\n",
       "4  https://www.bbcgoodfood.com/recipes"
      ]
     },
     "execution_count": 15,
     "metadata": {},
     "output_type": "execute_result"
    }
   ],
   "source": [
    "df = df[['Website_link']]\n",
    "df.head()\n"
   ]
  },
  {
   "cell_type": "code",
   "execution_count": 16,
   "metadata": {},
   "outputs": [],
   "source": [
    "df = df.drop_duplicates()"
   ]
  },
  {
   "cell_type": "code",
   "execution_count": 17,
   "metadata": {},
   "outputs": [
    {
     "name": "stdout",
     "output_type": "stream",
     "text": [
      "<class 'pandas.core.frame.DataFrame'>\n",
      "Int64Index: 342070 entries, 0 to 2161088\n",
      "Data columns (total 1 columns):\n",
      "Website_link    342070 non-null object\n",
      "dtypes: object(1)\n",
      "memory usage: 5.2+ MB\n"
     ]
    }
   ],
   "source": [
    "df.info()"
   ]
  },
  {
   "cell_type": "code",
   "execution_count": 18,
   "metadata": {},
   "outputs": [],
   "source": [
    "def recipe_flag(x):\n",
    "    if 'https://www.bbcgoodfood.com/recipes' in x:\n",
    "        return 1\n",
    "    else:\n",
    "        return 0\n",
    "\n",
    "    "
   ]
  },
  {
   "cell_type": "code",
   "execution_count": 19,
   "metadata": {},
   "outputs": [],
   "source": [
    "df['Website_link_flag'] = df['Website_link'].apply(recipe_flag)"
   ]
  },
  {
   "cell_type": "code",
   "execution_count": 20,
   "metadata": {},
   "outputs": [
    {
     "data": {
      "text/html": [
       "<div>\n",
       "<style scoped>\n",
       "    .dataframe tbody tr th:only-of-type {\n",
       "        vertical-align: middle;\n",
       "    }\n",
       "\n",
       "    .dataframe tbody tr th {\n",
       "        vertical-align: top;\n",
       "    }\n",
       "\n",
       "    .dataframe thead th {\n",
       "        text-align: right;\n",
       "    }\n",
       "</style>\n",
       "<table border=\"1\" class=\"dataframe\">\n",
       "  <thead>\n",
       "    <tr style=\"text-align: right;\">\n",
       "      <th></th>\n",
       "      <th>Website_link</th>\n",
       "      <th>Website_link_flag</th>\n",
       "    </tr>\n",
       "  </thead>\n",
       "  <tbody>\n",
       "    <tr>\n",
       "      <th>0</th>\n",
       "      <td>https://www.bbcgoodfood.com/recipes</td>\n",
       "      <td>1</td>\n",
       "    </tr>\n",
       "    <tr>\n",
       "      <th>6</th>\n",
       "      <td>https://www.bbcgoodfood.com/recipes/collection...</td>\n",
       "      <td>1</td>\n",
       "    </tr>\n",
       "    <tr>\n",
       "      <th>16</th>\n",
       "      <td>https://www.bbcgoodfood.com/recipes/collection...</td>\n",
       "      <td>1</td>\n",
       "    </tr>\n",
       "    <tr>\n",
       "      <th>24</th>\n",
       "      <td>https://www.bbcgoodfood.com/recipes/collection...</td>\n",
       "      <td>1</td>\n",
       "    </tr>\n",
       "    <tr>\n",
       "      <th>33</th>\n",
       "      <td>https://www.bbcgoodfood.com/recipes/category/s...</td>\n",
       "      <td>1</td>\n",
       "    </tr>\n",
       "  </tbody>\n",
       "</table>\n",
       "</div>"
      ],
      "text/plain": [
       "                                         Website_link  Website_link_flag\n",
       "0                 https://www.bbcgoodfood.com/recipes                  1\n",
       "6   https://www.bbcgoodfood.com/recipes/collection...                  1\n",
       "16  https://www.bbcgoodfood.com/recipes/collection...                  1\n",
       "24  https://www.bbcgoodfood.com/recipes/collection...                  1\n",
       "33  https://www.bbcgoodfood.com/recipes/category/s...                  1"
      ]
     },
     "execution_count": 20,
     "metadata": {},
     "output_type": "execute_result"
    }
   ],
   "source": [
    "df.head()"
   ]
  },
  {
   "cell_type": "code",
   "execution_count": 21,
   "metadata": {},
   "outputs": [],
   "source": [
    "df = df[df['Website_link_flag'] == 1]"
   ]
  },
  {
   "cell_type": "code",
   "execution_count": 22,
   "metadata": {},
   "outputs": [
    {
     "name": "stdout",
     "output_type": "stream",
     "text": [
      "<class 'pandas.core.frame.DataFrame'>\n",
      "Int64Index: 983 entries, 0 to 52642\n",
      "Data columns (total 2 columns):\n",
      "Website_link         983 non-null object\n",
      "Website_link_flag    983 non-null int64\n",
      "dtypes: int64(1), object(1)\n",
      "memory usage: 23.0+ KB\n"
     ]
    }
   ],
   "source": [
    "df.info()"
   ]
  },
  {
   "cell_type": "code",
   "execution_count": 23,
   "metadata": {},
   "outputs": [
    {
     "data": {
      "text/plain": [
       "0                      https://www.bbcgoodfood.com/recipes\n",
       "6        https://www.bbcgoodfood.com/recipes/collection...\n",
       "16       https://www.bbcgoodfood.com/recipes/collection...\n",
       "24       https://www.bbcgoodfood.com/recipes/collection...\n",
       "33       https://www.bbcgoodfood.com/recipes/category/s...\n",
       "41       https://www.bbcgoodfood.com/recipes/category/v...\n",
       "49       https://www.bbcgoodfood.com/recipes/collection...\n",
       "56       https://www.bbcgoodfood.com/recipes/collection...\n",
       "63       https://www.bbcgoodfood.com/recipes/collection...\n",
       "69       https://www.bbcgoodfood.com/recipes/collection...\n",
       "75       https://www.bbcgoodfood.com/recipes/collection...\n",
       "83       https://www.bbcgoodfood.com/recipes/collection...\n",
       "97       https://www.bbcgoodfood.com/recipes/collection...\n",
       "103      https://www.bbcgoodfood.com/recipes/category/s...\n",
       "110      https://www.bbcgoodfood.com/recipes/collection...\n",
       "116      https://www.bbcgoodfood.com/recipes/collection...\n",
       "123      https://www.bbcgoodfood.com/recipes/collection...\n",
       "130      https://www.bbcgoodfood.com/recipes/collection...\n",
       "136      https://www.bbcgoodfood.com/recipes/collection...\n",
       "150      https://www.bbcgoodfood.com/recipes/collection...\n",
       "169      https://www.bbcgoodfood.com/recipes/collection...\n",
       "176      https://www.bbcgoodfood.com/recipes/collection...\n",
       "182      https://www.bbcgoodfood.com/recipes/collection...\n",
       "197      https://www.bbcgoodfood.com/recipes/collection...\n",
       "203      https://www.bbcgoodfood.com/recipes/collection...\n",
       "215      https://www.bbcgoodfood.com/recipes/9081/smoke...\n",
       "303      https://www.bbcgoodfood.com/recipes/collection...\n",
       "310      https://www.bbcgoodfood.com/recipes/collection...\n",
       "363      https://www.bbcgoodfood.com/recipes/steaks-gou...\n",
       "419      https://www.bbcgoodfood.com/recipes/1564648/le...\n",
       "                               ...                        \n",
       "50936    https://www.bbcgoodfood.com/recipes/collection...\n",
       "50978    https://www.bbcgoodfood.com/recipes/2394/summe...\n",
       "51052    https://www.bbcgoodfood.com/recipes/4778/pear-...\n",
       "51096    https://www.bbcgoodfood.com/recipes/collection...\n",
       "51103    https://www.bbcgoodfood.com/recipes/4778/pear-...\n",
       "51178    https://www.bbcgoodfood.com/recipes/2489/cousc...\n",
       "51228    https://www.bbcgoodfood.com/recipes/4778/pear-...\n",
       "51272    https://www.bbcgoodfood.com/recipes/2394/summe...\n",
       "51340    https://www.bbcgoodfood.com/recipes/2394/summe...\n",
       "51476    https://www.bbcgoodfood.com/recipes/2489/cousc...\n",
       "51524    https://www.bbcgoodfood.com/recipes/prawn-leek...\n",
       "51551    https://www.bbcgoodfood.com/recipes/2394/summe...\n",
       "51619    https://www.bbcgoodfood.com/recipes/2394/summe...\n",
       "51688    https://www.bbcgoodfood.com/recipes/2394/summe...\n",
       "51774    https://www.bbcgoodfood.com/recipes/aubergine-...\n",
       "51863    https://www.bbcgoodfood.com/recipes/seeded-who...\n",
       "51914    https://www.bbcgoodfood.com/recipes/13419/coun...\n",
       "52025    https://www.bbcgoodfood.com/recipes/518628/sum...\n",
       "52041    https://www.bbcgoodfood.com/recipes/7783/beste...\n",
       "52115    https://www.bbcgoodfood.com/recipes/13419/coun...\n",
       "52163    https://www.bbcgoodfood.com/recipes/1582639/br...\n",
       "52207    https://www.bbcgoodfood.com/recipes/11750/ange...\n",
       "52303    https://www.bbcgoodfood.com/recipes/9088/beste...\n",
       "52363    https://www.bbcgoodfood.com/recipes/11750/ange...\n",
       "52397    https://www.bbcgoodfood.com/recipes/11750/ange...\n",
       "52498    https://www.bbcgoodfood.com/recipes/11750/ange...\n",
       "52526    https://www.bbcgoodfood.com/recipes/11750/ange...\n",
       "52555    https://www.bbcgoodfood.com/recipes/11750/ange...\n",
       "52620    https://www.bbcgoodfood.com/recipes/11750/ange...\n",
       "52642    https://www.bbcgoodfood.com/recipes/11750/ange...\n",
       "Name: Website_link, Length: 983, dtype: object"
      ]
     },
     "execution_count": 23,
     "metadata": {},
     "output_type": "execute_result"
    }
   ],
   "source": [
    "# create a list of recipes for run the bbcgoodfood scraper function on\n",
    "df1= df.Website_link\n",
    "df1"
   ]
  },
  {
   "cell_type": "code",
   "execution_count": 24,
   "metadata": {},
   "outputs": [],
   "source": [
    "# loop the bbc goodfood scraper over the list of recipes \n",
    "x1 = [bbc_goodfood_scraper(x) for x in df1]"
   ]
  },
  {
   "cell_type": "code",
   "execution_count": 25,
   "metadata": {},
   "outputs": [],
   "source": [
    "bbc_good_food = pd.concat(x1)"
   ]
  },
  {
   "cell_type": "code",
   "execution_count": 26,
   "metadata": {},
   "outputs": [],
   "source": [
    "bbc_good_food = bbc_good_food.drop_duplicates()"
   ]
  },
  {
   "cell_type": "code",
   "execution_count": 27,
   "metadata": {},
   "outputs": [],
   "source": [
    "bbc_good_food.to_csv('bbc_good_food_scrape_2.csv')"
   ]
  },
  {
   "cell_type": "code",
   "execution_count": 28,
   "metadata": {},
   "outputs": [
    {
     "data": {
      "text/html": [
       "<div>\n",
       "<style scoped>\n",
       "    .dataframe tbody tr th:only-of-type {\n",
       "        vertical-align: middle;\n",
       "    }\n",
       "\n",
       "    .dataframe tbody tr th {\n",
       "        vertical-align: top;\n",
       "    }\n",
       "\n",
       "    .dataframe thead th {\n",
       "        text-align: right;\n",
       "    }\n",
       "</style>\n",
       "<table border=\"1\" class=\"dataframe\">\n",
       "  <thead>\n",
       "    <tr style=\"text-align: right;\">\n",
       "      <th></th>\n",
       "      <th>Title</th>\n",
       "      <th>Rating</th>\n",
       "      <th>Difficulty</th>\n",
       "      <th>Serving</th>\n",
       "      <th>Preptime</th>\n",
       "      <th>Cook_time</th>\n",
       "      <th>Ingredients</th>\n",
       "      <th>Link</th>\n",
       "    </tr>\n",
       "  </thead>\n",
       "  <tbody>\n",
       "    <tr>\n",
       "      <th>0</th>\n",
       "      <td>Steaks with goulash sauce &amp; sweet potato fries</td>\n",
       "      <td>5</td>\n",
       "      <td>Easy</td>\n",
       "      <td>2</td>\n",
       "      <td>Prep: 10 mins</td>\n",
       "      <td>Cook: 25 mins</td>\n",
       "      <td>3 tsp rapeseed oil, 250g sweet potatoes, 1 tbs...</td>\n",
       "      <td>https://www.bbcgoodfood.com/recipes/steaks-gou...</td>\n",
       "    </tr>\n",
       "    <tr>\n",
       "      <th>0</th>\n",
       "      <td>Lentil soup</td>\n",
       "      <td>5</td>\n",
       "      <td>Easy</td>\n",
       "      <td>4</td>\n",
       "      <td>Prep: 10 mins</td>\n",
       "      <td>Cook: 1 hr</td>\n",
       "      <td>2l veg or ham stock, 150g red lentils Lentils ...</td>\n",
       "      <td>https://www.bbcgoodfood.com/recipes/1564648/le...</td>\n",
       "    </tr>\n",
       "    <tr>\n",
       "      <th>0</th>\n",
       "      <td>Spaghetti with prawns, chilli &amp; rocket</td>\n",
       "      <td>4</td>\n",
       "      <td>Easy</td>\n",
       "      <td>4</td>\n",
       "      <td>Prep: 5 mins</td>\n",
       "      <td>Cook: 15 mins - 20 mins</td>\n",
       "      <td>400g spaghetti, 2 long red chillies Chilli chi...</td>\n",
       "      <td>https://www.bbcgoodfood.com/recipes/1125/spagh...</td>\n",
       "    </tr>\n",
       "    <tr>\n",
       "      <th>0</th>\n",
       "      <td>Cheat's scampi with chunky chips</td>\n",
       "      <td>4</td>\n",
       "      <td>Easy</td>\n",
       "      <td>4</td>\n",
       "      <td>Prep: 15 mins</td>\n",
       "      <td>Cook: 45 mins</td>\n",
       "      <td>3 large baking potatoes, 1 tbsp olive oil Oliv...</td>\n",
       "      <td>https://www.bbcgoodfood.com/recipes/1167646/ch...</td>\n",
       "    </tr>\n",
       "    <tr>\n",
       "      <th>0</th>\n",
       "      <td>Easy Thai prawn curry</td>\n",
       "      <td>4</td>\n",
       "      <td>Easy</td>\n",
       "      <td>4</td>\n",
       "      <td>Prep: 5 mins</td>\n",
       "      <td>Cook: 15 mins</td>\n",
       "      <td>1 tbsp vegetable oil, 1 onion, 1 tsp fresh roo...</td>\n",
       "      <td>https://www.bbcgoodfood.com/recipes/7418/easy-...</td>\n",
       "    </tr>\n",
       "  </tbody>\n",
       "</table>\n",
       "</div>"
      ],
      "text/plain": [
       "                                            Title Rating Difficulty Serving  \\\n",
       "0  Steaks with goulash sauce & sweet potato fries      5       Easy       2   \n",
       "0                                     Lentil soup      5       Easy       4   \n",
       "0          Spaghetti with prawns, chilli & rocket      4       Easy       4   \n",
       "0                Cheat's scampi with chunky chips      4       Easy       4   \n",
       "0                           Easy Thai prawn curry      4       Easy       4   \n",
       "\n",
       "          Preptime                  Cook_time  \\\n",
       "0   Prep: 10 mins              Cook: 25 mins    \n",
       "0   Prep: 10 mins                 Cook: 1 hr    \n",
       "0    Prep: 5 mins    Cook: 15 mins - 20 mins    \n",
       "0   Prep: 15 mins              Cook: 45 mins    \n",
       "0    Prep: 5 mins              Cook: 15 mins    \n",
       "\n",
       "                                         Ingredients  \\\n",
       "0  3 tsp rapeseed oil, 250g sweet potatoes, 1 tbs...   \n",
       "0  2l veg or ham stock, 150g red lentils Lentils ...   \n",
       "0  400g spaghetti, 2 long red chillies Chilli chi...   \n",
       "0  3 large baking potatoes, 1 tbsp olive oil Oliv...   \n",
       "0  1 tbsp vegetable oil, 1 onion, 1 tsp fresh roo...   \n",
       "\n",
       "                                                Link  \n",
       "0  https://www.bbcgoodfood.com/recipes/steaks-gou...  \n",
       "0  https://www.bbcgoodfood.com/recipes/1564648/le...  \n",
       "0  https://www.bbcgoodfood.com/recipes/1125/spagh...  \n",
       "0  https://www.bbcgoodfood.com/recipes/1167646/ch...  \n",
       "0  https://www.bbcgoodfood.com/recipes/7418/easy-...  "
      ]
     },
     "execution_count": 28,
     "metadata": {},
     "output_type": "execute_result"
    }
   ],
   "source": [
    "bbc_good_food.head()"
   ]
  }
 ],
 "metadata": {
  "kernelspec": {
   "display_name": "Python 3",
   "language": "python",
   "name": "python3"
  },
  "language_info": {
   "codemirror_mode": {
    "name": "ipython",
    "version": 3
   },
   "file_extension": ".py",
   "mimetype": "text/x-python",
   "name": "python",
   "nbconvert_exporter": "python",
   "pygments_lexer": "ipython3",
   "version": "3.7.1"
  }
 },
 "nbformat": 4,
 "nbformat_minor": 2
}
