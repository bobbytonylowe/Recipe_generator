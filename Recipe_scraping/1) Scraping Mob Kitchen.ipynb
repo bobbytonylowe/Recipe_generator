{
 "cells": [
  {
   "cell_type": "markdown",
   "metadata": {},
   "source": [
    "# Mobkitchen"
   ]
  },
  {
   "cell_type": "code",
   "execution_count": 2,
   "metadata": {},
   "outputs": [
    {
     "name": "stderr",
     "output_type": "stream",
     "text": [
      "[nltk_data] Downloading package stopwords to\n",
      "[nltk_data]     C:\\Users\\robert.lowe\\AppData\\Roaming\\nltk_data...\n",
      "[nltk_data]   Package stopwords is already up-to-date!\n"
     ]
    }
   ],
   "source": [
    "import requests\n",
    "import urllib.request\n",
    "import urllib.parse\n",
    "import urllib.error\n",
    "from bs4 import BeautifulSoup\n",
    "import ssl\n",
    "import json\n",
    "import pandas as pd\n",
    "from selenium import webdriver\n",
    "from selenium.webdriver.common.action_chains import ActionChains\n",
    "import time\n",
    "import os\n",
    "import requests\n",
    "import urllib.request\n",
    "import urllib.parse\n",
    "import urllib.error\n",
    "from bs4 import BeautifulSoup as bs\n",
    "import re\n",
    "from urllib.request import urlopen\n",
    "from pandas.io.json import json_normalize\n",
    "import pandas as pd\n",
    "import numpy as np\n",
    "from urllib.request import Request, urlopen\n",
    "import nltk\n",
    "from nltk.corpus import stopwords\n",
    "import unicodedata\n",
    "from bs4 import BeautifulSoup\n",
    "nltk.download('stopwords')\n",
    "from scrapy.http import TextResponse\n",
    "import requests\n",
    "from scrapy import Selector"
   ]
  },
  {
   "cell_type": "code",
   "execution_count": 105,
   "metadata": {},
   "outputs": [
    {
     "data": {
      "text/plain": [
       "'400g of Penne Pasta,1 Chorizo Ring,200g of Roasted Red Peppers (In Jar),200g of Sun-Dried Tomatoes\\xa0,50g of Parmesan,50g of Pine Nuts,1 Ball of Mozzarella,1 Bunch of Basil,2 Cloves of Garlic,2 Tbsp of Chilli Flakes,Salt,Pepper,Olive Oil'"
      ]
     },
     "execution_count": 105,
     "metadata": {},
     "output_type": "execute_result"
    }
   ],
   "source": [
    "url = 'http://www.mobkitchen.co.uk/recipes/pesto-pasta-bake'\n",
    "req = Request(url, headers={'User-Agent': 'Mozilla/5.0 (Windows NT 10.0; Win64; x64) AppleWebKit/537.36 (KHTML, like Gecko) Chrome/70.0.3538.102 Safari/537.36'})\n",
    "webpage = urlopen(req).read()\n",
    "soup = BeautifulSoup(webpage, \"html.parser\")\n",
    "title = soup.findAll(\"ul\", class_=\"\")\n",
    "y = [x.text for x in title]\n",
    "y = \",\".join(y)\n",
    "splitArray = re.split(r'(?=[A-Z])', y)\n",
    "x = \",\".join(splitArray)\n",
    "text = re.split(r'(\\d+)', x)\n",
    "x = \",\".join(text)\n",
    "x = x.replace(', ', ' ')\n",
    "x = x.replace(', ,', ' ')\n",
    "x = x.replace(',g ', 'g ')\n",
    "x = x.replace(',kg ', 'kg ')\n",
    "x = x.replace(',l ', 'l ')\n",
    "x = x.replace(',ml ', 'ml ')\n",
    "x = x.replace('(,', '(')\n",
    "x = x.replace(',.,', '.')\n",
    "x = x.replace(',/,', '/')\n",
    "x = x.replace('-,', '-')\n",
    "x = x.replace(',,', ',')\n",
    "ingredients = x.replace(' ,', ' ')\n",
    "ingredients = ingredients[1:]\n",
    "ingredients"
   ]
  },
  {
   "cell_type": "code",
   "execution_count": 106,
   "metadata": {},
   "outputs": [
    {
     "data": {
      "text/plain": [
       "13"
      ]
     },
     "execution_count": 106,
     "metadata": {},
     "output_type": "execute_result"
    }
   ],
   "source": [
    "ingred_count = ingredients.count(',')\n",
    "ingred_count = ingred_count + 1\n",
    "ingred_count"
   ]
  },
  {
   "cell_type": "code",
   "execution_count": 4,
   "metadata": {},
   "outputs": [
    {
     "data": {
      "text/plain": [
       "['Feeds: 4 People']"
      ]
     },
     "execution_count": 4,
     "metadata": {},
     "output_type": "execute_result"
    }
   ],
   "source": [
    "url = 'http://www.mobkitchen.co.uk/recipes/chicken-chow-mein'\n",
    "req = Request(url, headers={'User-Agent': 'Mozilla/5.0 (Windows NT 10.0; Win64; x64) AppleWebKit/537.36 (KHTML, like Gecko) Chrome/70.0.3538.102 Safari/537.36'})\n",
    "webpage = urlopen(req).read()\n",
    "soup = BeautifulSoup(webpage, \"html.parser\")\n",
    "title = soup.findAll(\"h2\", class_=\"\")\n",
    "y = [x.text for x in title]\n",
    "y"
   ]
  },
  {
   "cell_type": "code",
   "execution_count": 103,
   "metadata": {},
   "outputs": [
    {
     "data": {
      "text/plain": [
       "'30 Minutes'"
      ]
     },
     "execution_count": 103,
     "metadata": {},
     "output_type": "execute_result"
    }
   ],
   "source": [
    "time1 = y[0]\n",
    "time1 = time1.split(':')\n",
    "time1 = time1[-1]\n",
    "time1[1:]"
   ]
  },
  {
   "cell_type": "code",
   "execution_count": 88,
   "metadata": {},
   "outputs": [
    {
     "data": {
      "text/plain": [
       "'4'"
      ]
     },
     "execution_count": 88,
     "metadata": {},
     "output_type": "execute_result"
    }
   ],
   "source": [
    "feeds = y[2]\n",
    "feeds = re.findall(r'\\b\\d+\\b', feeds)\n",
    "feeds = \"\".join(feeds)\n",
    "feeds"
   ]
  },
  {
   "cell_type": "code",
   "execution_count": 99,
   "metadata": {},
   "outputs": [
    {
     "data": {
      "text/plain": [
       "\"Max Fosh's Chorizo Pesto Pasta Bake\""
      ]
     },
     "execution_count": 99,
     "metadata": {},
     "output_type": "execute_result"
    }
   ],
   "source": [
    "#<h1 class=\"Blog-title Blog-title--item\" data-content-field=\"title\" itemprop=\"headline\">Zero Waste Veggie Carbonara</h1>\n",
    "url = 'http://www.mobkitchen.co.uk/recipes/pesto-pasta-bake'\n",
    "req = Request(url, headers={'User-Agent': 'Mozilla/5.0 (Windows NT 10.0; Win64; x64) AppleWebKit/537.36 (KHTML, like Gecko) Chrome/70.0.3538.102 Safari/537.36'})\n",
    "webpage = urlopen(req).read()\n",
    "soup = BeautifulSoup(webpage, \"html.parser\")\n",
    "recipe = soup.find(\"h1\", class_=\"Blog-title Blog-title--item\")\n",
    "recipe.text"
   ]
  },
  {
   "cell_type": "code",
   "execution_count": 5,
   "metadata": {},
   "outputs": [],
   "source": [
    "def mobkitchen(url):\n",
    "    try:\n",
    "        req = Request(url, headers={'User-Agent': 'Mozilla/5.0 (Windows NT 10.0; Win64; x64) AppleWebKit/537.36 (KHTML, like Gecko) Chrome/70.0.3538.102 Safari/537.36'})\n",
    "        webpage = urlopen(req).read()\n",
    "        soup = BeautifulSoup(webpage, \"html.parser\")\n",
    "\n",
    "        # Title \n",
    "        recipe = soup.find(\"h1\", class_=\"Blog-title Blog-title--item\")\n",
    "        recipe = recipe.text\n",
    "\n",
    "        # Feeds and  #Time\n",
    "        time_feeds = soup.findAll(\"h2\", class_=\"\")\n",
    "        time_feeds = [x.text for x in time_feeds]\n",
    "        feeds = time_feeds[2]\n",
    "        feeds = re.findall(r'\\b\\d+\\b', feeds)\n",
    "        feeds = \"\".join(feeds)\n",
    "        # time\n",
    "        time1 = time_feeds[0]\n",
    "        time1 = time1.split(':')\n",
    "        time1 = time1[-1]\n",
    "\n",
    "\n",
    "        # Ingredients \n",
    "        title = soup.findAll(\"ul\", class_=\"\")\n",
    "        y = [x.text for x in title]\n",
    "        y = \",\".join(y)\n",
    "        splitArray = re.split(r'(?=[A-Z])', y)\n",
    "        x = \",\".join(splitArray)\n",
    "        text = re.split(r'(\\d+)', x)\n",
    "        x = \",\".join(text)\n",
    "        x = x.replace(', ', ' ')\n",
    "        x = x.replace(', ,', ' ')\n",
    "        x = x.replace(',g ', 'g ')\n",
    "        x = x.replace(',kg ', 'kg ')\n",
    "        x = x.replace(',l ', 'l ')\n",
    "        x = x.replace(',ml ', 'ml ')\n",
    "        x = x.replace('(,', '(')\n",
    "        x = x.replace(',.,', '.')\n",
    "        x = x.replace(',/,', '/')\n",
    "        x = x.replace('-,', '-')\n",
    "        x = x.replace(',,', ',')\n",
    "        ingredients = x.replace(' ,', ' ')\n",
    "        ingredients = ingredients.replace(',', ', ')\n",
    "        ingredients = ingredients[1:]\n",
    "\n",
    "\n",
    "\n",
    "        ingred_count = ingredients.count(',')\n",
    "        ingred_count = ingred_count + 1\n",
    "\n",
    "\n",
    "        # Create a dataframe\n",
    "        d = {\n",
    "            'Title': recipe, \n",
    "             \"Serving\": feeds, \n",
    "             'Cook_time': time1[1:], \n",
    "             'Ingredients': ingredients,\n",
    "            \"Number of ingredients\" : ingred_count,\n",
    "             \"Link\": url\n",
    "\n",
    "            }\n",
    "        df = pd.DataFrame(data=d, index=[0])\n",
    "\n",
    "        return df\n",
    "    except:\n",
    "        pass\n",
    "\n",
    "\n"
   ]
  },
  {
   "cell_type": "code",
   "execution_count": 6,
   "metadata": {},
   "outputs": [],
   "source": [
    "mobkitchen('http://www.mobkitchen.co.uk/recipes/chicken-chow-mein')"
   ]
  },
  {
   "cell_type": "code",
   "execution_count": 140,
   "metadata": {},
   "outputs": [
    {
     "data": {
      "text/html": [
       "<div>\n",
       "<style scoped>\n",
       "    .dataframe tbody tr th:only-of-type {\n",
       "        vertical-align: middle;\n",
       "    }\n",
       "\n",
       "    .dataframe tbody tr th {\n",
       "        vertical-align: top;\n",
       "    }\n",
       "\n",
       "    .dataframe thead th {\n",
       "        text-align: right;\n",
       "    }\n",
       "</style>\n",
       "<table border=\"1\" class=\"dataframe\">\n",
       "  <thead>\n",
       "    <tr style=\"text-align: right;\">\n",
       "      <th></th>\n",
       "      <th>Links</th>\n",
       "    </tr>\n",
       "  </thead>\n",
       "  <tbody>\n",
       "    <tr>\n",
       "      <th>0</th>\n",
       "      <td>http://www.mobkitchen.co.uk/recipes/salt-peppe...</td>\n",
       "    </tr>\n",
       "    <tr>\n",
       "      <th>1</th>\n",
       "      <td>http://www.mobkitchen.co.uk/recipes/prawn-chor...</td>\n",
       "    </tr>\n",
       "    <tr>\n",
       "      <th>2</th>\n",
       "      <td>http://www.mobkitchen.co.uk/recipes/spicy-chic...</td>\n",
       "    </tr>\n",
       "    <tr>\n",
       "      <th>3</th>\n",
       "      <td>http://www.mobkitchen.co.uk/recipes/veggie-cru...</td>\n",
       "    </tr>\n",
       "    <tr>\n",
       "      <th>4</th>\n",
       "      <td>http://www.mobkitchen.co.uk/recipes/zero-waste...</td>\n",
       "    </tr>\n",
       "  </tbody>\n",
       "</table>\n",
       "</div>"
      ],
      "text/plain": [
       "                                               Links\n",
       "0  http://www.mobkitchen.co.uk/recipes/salt-peppe...\n",
       "1  http://www.mobkitchen.co.uk/recipes/prawn-chor...\n",
       "2  http://www.mobkitchen.co.uk/recipes/spicy-chic...\n",
       "3  http://www.mobkitchen.co.uk/recipes/veggie-cru...\n",
       "4  http://www.mobkitchen.co.uk/recipes/zero-waste..."
      ]
     },
     "execution_count": 140,
     "metadata": {},
     "output_type": "execute_result"
    }
   ],
   "source": [
    "mob = pd.read_csv('mob_links.csv')\n",
    "mob.head()"
   ]
  },
  {
   "cell_type": "code",
   "execution_count": 141,
   "metadata": {},
   "outputs": [
    {
     "name": "stdout",
     "output_type": "stream",
     "text": [
      "<class 'pandas.core.frame.DataFrame'>\n",
      "RangeIndex: 380 entries, 0 to 379\n",
      "Data columns (total 1 columns):\n",
      "Links    380 non-null object\n",
      "dtypes: object(1)\n",
      "memory usage: 3.0+ KB\n"
     ]
    }
   ],
   "source": [
    "mob.info()"
   ]
  },
  {
   "cell_type": "code",
   "execution_count": 142,
   "metadata": {},
   "outputs": [],
   "source": [
    "# create a list of recipes to run the scraper function on\n",
    "df= mob.Links"
   ]
  },
  {
   "cell_type": "code",
   "execution_count": null,
   "metadata": {},
   "outputs": [],
   "source": [
    "x1 = [mobkitchen(x) for x in df]"
   ]
  },
  {
   "cell_type": "code",
   "execution_count": 135,
   "metadata": {},
   "outputs": [],
   "source": [
    "mob_recipes = pd.concat(x1)"
   ]
  },
  {
   "cell_type": "code",
   "execution_count": 144,
   "metadata": {},
   "outputs": [
    {
     "data": {
      "text/html": [
       "<div>\n",
       "<style scoped>\n",
       "    .dataframe tbody tr th:only-of-type {\n",
       "        vertical-align: middle;\n",
       "    }\n",
       "\n",
       "    .dataframe tbody tr th {\n",
       "        vertical-align: top;\n",
       "    }\n",
       "\n",
       "    .dataframe thead th {\n",
       "        text-align: right;\n",
       "    }\n",
       "</style>\n",
       "<table border=\"1\" class=\"dataframe\">\n",
       "  <thead>\n",
       "    <tr style=\"text-align: right;\">\n",
       "      <th></th>\n",
       "      <th>Title</th>\n",
       "      <th>Serving</th>\n",
       "      <th>Cook_time</th>\n",
       "      <th>Ingredients</th>\n",
       "      <th>Number of ingredients</th>\n",
       "      <th>Link</th>\n",
       "    </tr>\n",
       "  </thead>\n",
       "  <tbody>\n",
       "    <tr>\n",
       "      <th>0</th>\n",
       "      <td>Salt and Pepper Tofu</td>\n",
       "      <td>4</td>\n",
       "      <td>20 Minutes</td>\n",
       "      <td>5 Spring Onions, 2 Cloves of Garlic, 9 Bird’s...</td>\n",
       "      <td>8</td>\n",
       "      <td>http://www.mobkitchen.co.uk/recipes/salt-peppe...</td>\n",
       "    </tr>\n",
       "    <tr>\n",
       "      <th>0</th>\n",
       "      <td>Prawn and Chorizo Orzo</td>\n",
       "      <td>4</td>\n",
       "      <td></td>\n",
       "      <td>1 Chorizo Ring, 1 Tsp of Very Lazy Chopped Ga...</td>\n",
       "      <td>11</td>\n",
       "      <td>http://www.mobkitchen.co.uk/recipes/prawn-chor...</td>\n",
       "    </tr>\n",
       "    <tr>\n",
       "      <th>0</th>\n",
       "      <td>Spicy Chicken Katsu</td>\n",
       "      <td></td>\n",
       "      <td>45 Minutes</td>\n",
       "      <td>3 Eggs, 8 Skinless Boneless Chicken Thighs, 2...</td>\n",
       "      <td>15</td>\n",
       "      <td>http://www.mobkitchen.co.uk/recipes/spicy-chic...</td>\n",
       "    </tr>\n",
       "    <tr>\n",
       "      <th>0</th>\n",
       "      <td>Veggie Crunch Wrap</td>\n",
       "      <td>4</td>\n",
       "      <td>1.5 Hours</td>\n",
       "      <td>3 Cloves of Garlic, 1 Can of Sweetcorn, 1 Can...</td>\n",
       "      <td>20</td>\n",
       "      <td>http://www.mobkitchen.co.uk/recipes/veggie-cru...</td>\n",
       "    </tr>\n",
       "    <tr>\n",
       "      <th>0</th>\n",
       "      <td>Zero Waste Veggie Carbonara</td>\n",
       "      <td>4</td>\n",
       "      <td>25 Minutes</td>\n",
       "      <td>500g of Linguine 2 Cloves of Garlic, 2 Courge...</td>\n",
       "      <td>7</td>\n",
       "      <td>http://www.mobkitchen.co.uk/recipes/zero-waste...</td>\n",
       "    </tr>\n",
       "  </tbody>\n",
       "</table>\n",
       "</div>"
      ],
      "text/plain": [
       "                         Title Serving    Cook_time  \\\n",
       "0         Salt and Pepper Tofu       4  20 Minutes    \n",
       "0       Prawn and Chorizo Orzo       4                \n",
       "0          Spicy Chicken Katsu           45 Minutes   \n",
       "0           Veggie Crunch Wrap       4    1.5 Hours   \n",
       "0  Zero Waste Veggie Carbonara       4   25 Minutes   \n",
       "\n",
       "                                         Ingredients  Number of ingredients  \\\n",
       "0   5 Spring Onions, 2 Cloves of Garlic, 9 Bird’s...                      8   \n",
       "0   1 Chorizo Ring, 1 Tsp of Very Lazy Chopped Ga...                     11   \n",
       "0   3 Eggs, 8 Skinless Boneless Chicken Thighs, 2...                     15   \n",
       "0   3 Cloves of Garlic, 1 Can of Sweetcorn, 1 Can...                     20   \n",
       "0   500g of Linguine 2 Cloves of Garlic, 2 Courge...                      7   \n",
       "\n",
       "                                                Link  \n",
       "0  http://www.mobkitchen.co.uk/recipes/salt-peppe...  \n",
       "0  http://www.mobkitchen.co.uk/recipes/prawn-chor...  \n",
       "0  http://www.mobkitchen.co.uk/recipes/spicy-chic...  \n",
       "0  http://www.mobkitchen.co.uk/recipes/veggie-cru...  \n",
       "0  http://www.mobkitchen.co.uk/recipes/zero-waste...  "
      ]
     },
     "execution_count": 144,
     "metadata": {},
     "output_type": "execute_result"
    }
   ],
   "source": [
    "mob_recipes.head()"
   ]
  },
  {
   "cell_type": "code",
   "execution_count": 122,
   "metadata": {},
   "outputs": [],
   "source": [
    "mob_recipes.to_csv('mob_recipes.csv')"
   ]
  },
  {
   "cell_type": "code",
   "execution_count": 137,
   "metadata": {},
   "outputs": [
    {
     "name": "stdout",
     "output_type": "stream",
     "text": [
      "<class 'pandas.core.frame.DataFrame'>\n",
      "Int64Index: 129 entries, 0 to 0\n",
      "Data columns (total 6 columns):\n",
      "Title                    129 non-null object\n",
      "Serving                  129 non-null object\n",
      "Cook_time                129 non-null object\n",
      "Ingredients              129 non-null object\n",
      "Number of ingredients    129 non-null int64\n",
      "Link                     129 non-null object\n",
      "dtypes: int64(1), object(5)\n",
      "memory usage: 7.1+ KB\n"
     ]
    }
   ],
   "source": [
    "mob_recipes.info()"
   ]
  },
  {
   "cell_type": "code",
   "execution_count": 149,
   "metadata": {},
   "outputs": [],
   "source": [
    "mob.rename(columns={'Links': 'Link'}, inplace=True)"
   ]
  },
  {
   "cell_type": "code",
   "execution_count": 150,
   "metadata": {},
   "outputs": [
    {
     "data": {
      "text/html": [
       "<div>\n",
       "<style scoped>\n",
       "    .dataframe tbody tr th:only-of-type {\n",
       "        vertical-align: middle;\n",
       "    }\n",
       "\n",
       "    .dataframe tbody tr th {\n",
       "        vertical-align: top;\n",
       "    }\n",
       "\n",
       "    .dataframe thead th {\n",
       "        text-align: right;\n",
       "    }\n",
       "</style>\n",
       "<table border=\"1\" class=\"dataframe\">\n",
       "  <thead>\n",
       "    <tr style=\"text-align: right;\">\n",
       "      <th></th>\n",
       "      <th>Title</th>\n",
       "      <th>Serving</th>\n",
       "      <th>Cook_time</th>\n",
       "      <th>Ingredients</th>\n",
       "      <th>Number of ingredients</th>\n",
       "      <th>Link</th>\n",
       "    </tr>\n",
       "  </thead>\n",
       "  <tbody>\n",
       "    <tr>\n",
       "      <th>0</th>\n",
       "      <td>Salt and Pepper Tofu</td>\n",
       "      <td>4</td>\n",
       "      <td>20 Minutes</td>\n",
       "      <td>5 Spring Onions, 2 Cloves of Garlic, 9 Bird’s...</td>\n",
       "      <td>8</td>\n",
       "      <td>http://www.mobkitchen.co.uk/recipes/salt-peppe...</td>\n",
       "    </tr>\n",
       "    <tr>\n",
       "      <th>0</th>\n",
       "      <td>Prawn and Chorizo Orzo</td>\n",
       "      <td>4</td>\n",
       "      <td></td>\n",
       "      <td>1 Chorizo Ring, 1 Tsp of Very Lazy Chopped Ga...</td>\n",
       "      <td>11</td>\n",
       "      <td>http://www.mobkitchen.co.uk/recipes/prawn-chor...</td>\n",
       "    </tr>\n",
       "    <tr>\n",
       "      <th>0</th>\n",
       "      <td>Spicy Chicken Katsu</td>\n",
       "      <td></td>\n",
       "      <td>45 Minutes</td>\n",
       "      <td>3 Eggs, 8 Skinless Boneless Chicken Thighs, 2...</td>\n",
       "      <td>15</td>\n",
       "      <td>http://www.mobkitchen.co.uk/recipes/spicy-chic...</td>\n",
       "    </tr>\n",
       "    <tr>\n",
       "      <th>0</th>\n",
       "      <td>Veggie Crunch Wrap</td>\n",
       "      <td>4</td>\n",
       "      <td>1.5 Hours</td>\n",
       "      <td>3 Cloves of Garlic, 1 Can of Sweetcorn, 1 Can...</td>\n",
       "      <td>20</td>\n",
       "      <td>http://www.mobkitchen.co.uk/recipes/veggie-cru...</td>\n",
       "    </tr>\n",
       "    <tr>\n",
       "      <th>0</th>\n",
       "      <td>Zero Waste Veggie Carbonara</td>\n",
       "      <td>4</td>\n",
       "      <td>25 Minutes</td>\n",
       "      <td>500g of Linguine 2 Cloves of Garlic, 2 Courge...</td>\n",
       "      <td>7</td>\n",
       "      <td>http://www.mobkitchen.co.uk/recipes/zero-waste...</td>\n",
       "    </tr>\n",
       "  </tbody>\n",
       "</table>\n",
       "</div>"
      ],
      "text/plain": [
       "                         Title Serving    Cook_time  \\\n",
       "0         Salt and Pepper Tofu       4  20 Minutes    \n",
       "0       Prawn and Chorizo Orzo       4                \n",
       "0          Spicy Chicken Katsu           45 Minutes   \n",
       "0           Veggie Crunch Wrap       4    1.5 Hours   \n",
       "0  Zero Waste Veggie Carbonara       4   25 Minutes   \n",
       "\n",
       "                                         Ingredients  Number of ingredients  \\\n",
       "0   5 Spring Onions, 2 Cloves of Garlic, 9 Bird’s...                      8   \n",
       "0   1 Chorizo Ring, 1 Tsp of Very Lazy Chopped Ga...                     11   \n",
       "0   3 Eggs, 8 Skinless Boneless Chicken Thighs, 2...                     15   \n",
       "0   3 Cloves of Garlic, 1 Can of Sweetcorn, 1 Can...                     20   \n",
       "0   500g of Linguine 2 Cloves of Garlic, 2 Courge...                      7   \n",
       "\n",
       "                                                Link  \n",
       "0  http://www.mobkitchen.co.uk/recipes/salt-peppe...  \n",
       "0  http://www.mobkitchen.co.uk/recipes/prawn-chor...  \n",
       "0  http://www.mobkitchen.co.uk/recipes/spicy-chic...  \n",
       "0  http://www.mobkitchen.co.uk/recipes/veggie-cru...  \n",
       "0  http://www.mobkitchen.co.uk/recipes/zero-waste...  "
      ]
     },
     "execution_count": 150,
     "metadata": {},
     "output_type": "execute_result"
    }
   ],
   "source": [
    "mob_recipes.head()"
   ]
  },
  {
   "cell_type": "code",
   "execution_count": 151,
   "metadata": {},
   "outputs": [
    {
     "data": {
      "text/html": [
       "<div>\n",
       "<style scoped>\n",
       "    .dataframe tbody tr th:only-of-type {\n",
       "        vertical-align: middle;\n",
       "    }\n",
       "\n",
       "    .dataframe tbody tr th {\n",
       "        vertical-align: top;\n",
       "    }\n",
       "\n",
       "    .dataframe thead th {\n",
       "        text-align: right;\n",
       "    }\n",
       "</style>\n",
       "<table border=\"1\" class=\"dataframe\">\n",
       "  <thead>\n",
       "    <tr style=\"text-align: right;\">\n",
       "      <th></th>\n",
       "      <th>Link</th>\n",
       "    </tr>\n",
       "  </thead>\n",
       "  <tbody>\n",
       "    <tr>\n",
       "      <th>0</th>\n",
       "      <td>http://www.mobkitchen.co.uk/recipes/salt-peppe...</td>\n",
       "    </tr>\n",
       "    <tr>\n",
       "      <th>1</th>\n",
       "      <td>http://www.mobkitchen.co.uk/recipes/prawn-chor...</td>\n",
       "    </tr>\n",
       "    <tr>\n",
       "      <th>2</th>\n",
       "      <td>http://www.mobkitchen.co.uk/recipes/spicy-chic...</td>\n",
       "    </tr>\n",
       "    <tr>\n",
       "      <th>3</th>\n",
       "      <td>http://www.mobkitchen.co.uk/recipes/veggie-cru...</td>\n",
       "    </tr>\n",
       "    <tr>\n",
       "      <th>4</th>\n",
       "      <td>http://www.mobkitchen.co.uk/recipes/zero-waste...</td>\n",
       "    </tr>\n",
       "  </tbody>\n",
       "</table>\n",
       "</div>"
      ],
      "text/plain": [
       "                                                Link\n",
       "0  http://www.mobkitchen.co.uk/recipes/salt-peppe...\n",
       "1  http://www.mobkitchen.co.uk/recipes/prawn-chor...\n",
       "2  http://www.mobkitchen.co.uk/recipes/spicy-chic...\n",
       "3  http://www.mobkitchen.co.uk/recipes/veggie-cru...\n",
       "4  http://www.mobkitchen.co.uk/recipes/zero-waste..."
      ]
     },
     "execution_count": 151,
     "metadata": {},
     "output_type": "execute_result"
    }
   ],
   "source": [
    "mob.head()"
   ]
  },
  {
   "cell_type": "code",
   "execution_count": 152,
   "metadata": {},
   "outputs": [],
   "source": [
    "df_all = pd.merge(mob, mob_recipes, on=['Link'], how='outer')"
   ]
  },
  {
   "cell_type": "code",
   "execution_count": 154,
   "metadata": {},
   "outputs": [],
   "source": [
    "df_all.to_csv('missing_mob_recipes.csv')"
   ]
  },
  {
   "cell_type": "code",
   "execution_count": 235,
   "metadata": {},
   "outputs": [
    {
     "data": {
      "text/html": [
       "<div>\n",
       "<style scoped>\n",
       "    .dataframe tbody tr th:only-of-type {\n",
       "        vertical-align: middle;\n",
       "    }\n",
       "\n",
       "    .dataframe tbody tr th {\n",
       "        vertical-align: top;\n",
       "    }\n",
       "\n",
       "    .dataframe thead th {\n",
       "        text-align: right;\n",
       "    }\n",
       "</style>\n",
       "<table border=\"1\" class=\"dataframe\">\n",
       "  <thead>\n",
       "    <tr style=\"text-align: right;\">\n",
       "      <th></th>\n",
       "      <th>Link</th>\n",
       "      <th>Title</th>\n",
       "      <th>Serving</th>\n",
       "      <th>Cook_time</th>\n",
       "      <th>Ingredients</th>\n",
       "      <th>Number of ingredients</th>\n",
       "    </tr>\n",
       "  </thead>\n",
       "  <tbody>\n",
       "    <tr>\n",
       "      <th>401</th>\n",
       "      <td>http://www.mobkitchen.co.uk/recipes/butternut-...</td>\n",
       "      <td>Butternut Squash Soup with Garlic Bread</td>\n",
       "      <td>4</td>\n",
       "      <td>1 Hour 35 Minutes</td>\n",
       "      <td>2 Butternut Squash, 2 Carrots, 1 Onion, 3 Tsp...</td>\n",
       "      <td>11.0</td>\n",
       "    </tr>\n",
       "    <tr>\n",
       "      <th>402</th>\n",
       "      <td>http://www.mobkitchen.co.uk/recipes/mushroom-c...</td>\n",
       "      <td>Tommi Miers’ Grilled Mushroom and Cheese Tacos</td>\n",
       "      <td>4</td>\n",
       "      <td>40 Minutes</td>\n",
       "      <td>1/2 a Bulb of Garlic, 1 Ancho Chilli 1 Chipot...</td>\n",
       "      <td>15.0</td>\n",
       "    </tr>\n",
       "    <tr>\n",
       "      <th>403</th>\n",
       "      <td>http://www.mobkitchen.co.uk/recipes/meatless-n...</td>\n",
       "      <td>MOB's Meatless Nachos</td>\n",
       "      <td>4</td>\n",
       "      <td>20 Minutes</td>\n",
       "      <td>400g of Meatless Farm Mince (1 Pack), 7 Tomat...</td>\n",
       "      <td>17.0</td>\n",
       "    </tr>\n",
       "    <tr>\n",
       "      <th>404</th>\n",
       "      <td>http://www.mobkitchen.co.uk/recipes/bacon-rosti</td>\n",
       "      <td>MOB's Bacon Rösti's</td>\n",
       "      <td>4</td>\n",
       "      <td>30 Minutes</td>\n",
       "      <td>1 Pack of Co-op’s Dry Cured Unsmoked Back Bac...</td>\n",
       "      <td>8.0</td>\n",
       "    </tr>\n",
       "    <tr>\n",
       "      <th>405</th>\n",
       "      <td>http://www.mobkitchen.co.uk/recipes/butternut-...</td>\n",
       "      <td>NaN</td>\n",
       "      <td>NaN</td>\n",
       "      <td>NaN</td>\n",
       "      <td>NaN</td>\n",
       "      <td>NaN</td>\n",
       "    </tr>\n",
       "  </tbody>\n",
       "</table>\n",
       "</div>"
      ],
      "text/plain": [
       "                                                  Link  \\\n",
       "401  http://www.mobkitchen.co.uk/recipes/butternut-...   \n",
       "402  http://www.mobkitchen.co.uk/recipes/mushroom-c...   \n",
       "403  http://www.mobkitchen.co.uk/recipes/meatless-n...   \n",
       "404    http://www.mobkitchen.co.uk/recipes/bacon-rosti   \n",
       "405  http://www.mobkitchen.co.uk/recipes/butternut-...   \n",
       "\n",
       "                                              Title Serving  \\\n",
       "401         Butternut Squash Soup with Garlic Bread       4   \n",
       "402  Tommi Miers’ Grilled Mushroom and Cheese Tacos       4   \n",
       "403                           MOB's Meatless Nachos       4   \n",
       "404                             MOB's Bacon Rösti's       4   \n",
       "405                                             NaN     NaN   \n",
       "\n",
       "             Cook_time                                        Ingredients  \\\n",
       "401  1 Hour 35 Minutes   2 Butternut Squash, 2 Carrots, 1 Onion, 3 Tsp...   \n",
       "402         40 Minutes   1/2 a Bulb of Garlic, 1 Ancho Chilli 1 Chipot...   \n",
       "403         20 Minutes   400g of Meatless Farm Mince (1 Pack), 7 Tomat...   \n",
       "404         30 Minutes   1 Pack of Co-op’s Dry Cured Unsmoked Back Bac...   \n",
       "405                NaN                                                NaN   \n",
       "\n",
       "     Number of ingredients  \n",
       "401                   11.0  \n",
       "402                   15.0  \n",
       "403                   17.0  \n",
       "404                    8.0  \n",
       "405                    NaN  "
      ]
     },
     "execution_count": 235,
     "metadata": {},
     "output_type": "execute_result"
    }
   ],
   "source": [
    "df_all.tail()"
   ]
  },
  {
   "cell_type": "code",
   "execution_count": 239,
   "metadata": {},
   "outputs": [
    {
     "name": "stdout",
     "output_type": "stream",
     "text": [
      "<class 'pandas.core.frame.DataFrame'>\n",
      "Int64Index: 251 entries, 63 to 405\n",
      "Data columns (total 6 columns):\n",
      "Link                     251 non-null object\n",
      "Title                    0 non-null object\n",
      "Serving                  0 non-null object\n",
      "Cook_time                0 non-null object\n",
      "Ingredients              0 non-null object\n",
      "Number of ingredients    0 non-null float64\n",
      "dtypes: float64(1), object(5)\n",
      "memory usage: 13.7+ KB\n"
     ]
    }
   ],
   "source": [
    "missing = df_all[df_all.Ingredients.isnull()]\n",
    "missing.info()"
   ]
  },
  {
   "cell_type": "code",
   "execution_count": 240,
   "metadata": {},
   "outputs": [],
   "source": [
    "def mobkitchen_missing(url):\n",
    "    try:\n",
    "        req = Request(url, headers={'User-Agent': 'Mozilla/5.0 (Windows NT 10.0; Win64; x64) AppleWebKit/537.36 (KHTML, like Gecko) Chrome/70.0.3538.102 Safari/537.36'})\n",
    "        webpage = urlopen(req).read()\n",
    "        soup = BeautifulSoup(webpage, \"html.parser\")\n",
    "    \n",
    "         # Title \n",
    "        recipe = soup.find(\"h1\", class_=\"Blog-title Blog-title--item\")\n",
    "        recipe = recipe.text\n",
    "\n",
    "        #feeds and time\n",
    "        feeds_time = soup.findAll(\"h3\", class_=\"\")\n",
    "        feeds_time = [x.text for x in feeds_time]\n",
    "        \n",
    "        #time\n",
    "        time1 = feeds_time[1]\n",
    "        time1 = time1.split(':')\n",
    "        time1 = time1[-1]\n",
    "\n",
    "        #feeds\n",
    "        feeds = feeds_time[2]\n",
    "        feeds = re.findall(r'\\b\\d+\\b', feeds)\n",
    "        feeds = \"\".join(feeds)\n",
    "        \n",
    "        # Ingredients \n",
    "        raw_ingred = soup.findAll(\"ul\", class_=\"\")\n",
    "        raw_ingred = [x.text.split('-') for x in raw_ingred][0]\n",
    "        ingred = [x[6:] for x in raw_ingred]\n",
    "        clean = ingred[1:]\n",
    "        x = \", \".join(clean)\n",
    "        ingred2 = x.replace('Total Cost ,  , covers absolutely everything. All we assume you have in your kitchen beforehand is ', '').replace(' AND ',', ')\n",
    "        ingredients_2 = raw_ingred[0] + ', ' + ingred2\n",
    "        ingredients_2 = ingredients_2.replace(' , ', ', ')\n",
    "\n",
    "        #count ingredients\n",
    "        ingred_count = ingredients_2.count(',')\n",
    "        ingred_count = ingred_count + 1\n",
    "\n",
    "\n",
    "        # Create a dataframe\n",
    "        d = {\n",
    "            'Title': recipe, \n",
    "             \"Serving\": feeds, \n",
    "             'Cook_time': time1[1:].lower(), \n",
    "             'Ingredients': ingredients_2,\n",
    "            \"Number of ingredients\" : ingred_count,\n",
    "             \"Link\": url\n",
    "\n",
    "            }\n",
    "        df = pd.DataFrame(data=d, index=[0])\n",
    "\n",
    "        return df\n",
    "    except:\n",
    "        pass\n",
    "\n",
    "\n"
   ]
  },
  {
   "cell_type": "code",
   "execution_count": 241,
   "metadata": {},
   "outputs": [
    {
     "data": {
      "text/html": [
       "<div>\n",
       "<style scoped>\n",
       "    .dataframe tbody tr th:only-of-type {\n",
       "        vertical-align: middle;\n",
       "    }\n",
       "\n",
       "    .dataframe tbody tr th {\n",
       "        vertical-align: top;\n",
       "    }\n",
       "\n",
       "    .dataframe thead th {\n",
       "        text-align: right;\n",
       "    }\n",
       "</style>\n",
       "<table border=\"1\" class=\"dataframe\">\n",
       "  <thead>\n",
       "    <tr style=\"text-align: right;\">\n",
       "      <th></th>\n",
       "      <th>Title</th>\n",
       "      <th>Serving</th>\n",
       "      <th>Cook_time</th>\n",
       "      <th>Ingredients</th>\n",
       "      <th>Number of ingredients</th>\n",
       "      <th>Link</th>\n",
       "    </tr>\n",
       "  </thead>\n",
       "  <tbody>\n",
       "    <tr>\n",
       "      <th>0</th>\n",
       "      <td>Smoky Pork Tacos</td>\n",
       "      <td>4</td>\n",
       "      <td>30 minutes</td>\n",
       "      <td>500g of Pork Mince, 1 Large Avocado, 4 Tomatoe...</td>\n",
       "      <td>14</td>\n",
       "      <td>http://www.mobkitchen.co.uk/recipes/smoky-pork...</td>\n",
       "    </tr>\n",
       "  </tbody>\n",
       "</table>\n",
       "</div>"
      ],
      "text/plain": [
       "              Title Serving   Cook_time  \\\n",
       "0  Smoky Pork Tacos       4  30 minutes   \n",
       "\n",
       "                                         Ingredients  Number of ingredients  \\\n",
       "0  500g of Pork Mince, 1 Large Avocado, 4 Tomatoe...                     14   \n",
       "\n",
       "                                                Link  \n",
       "0  http://www.mobkitchen.co.uk/recipes/smoky-pork...  "
      ]
     },
     "execution_count": 241,
     "metadata": {},
     "output_type": "execute_result"
    }
   ],
   "source": [
    "mobkitchen_missing('http://www.mobkitchen.co.uk/recipes/smoky-pork-tacos')"
   ]
  },
  {
   "cell_type": "code",
   "execution_count": 242,
   "metadata": {},
   "outputs": [],
   "source": [
    "# create a list of recipes to run the scraper function on\n",
    "missing_links = missing.Link"
   ]
  },
  {
   "cell_type": "code",
   "execution_count": 243,
   "metadata": {},
   "outputs": [],
   "source": [
    "x1 = [mobkitchen_missing(x) for x in missing_links]"
   ]
  },
  {
   "cell_type": "code",
   "execution_count": 244,
   "metadata": {},
   "outputs": [],
   "source": [
    "mobkitchen_missing_recipes = pd.concat(x1)"
   ]
  },
  {
   "cell_type": "code",
   "execution_count": 245,
   "metadata": {},
   "outputs": [
    {
     "data": {
      "text/html": [
       "<div>\n",
       "<style scoped>\n",
       "    .dataframe tbody tr th:only-of-type {\n",
       "        vertical-align: middle;\n",
       "    }\n",
       "\n",
       "    .dataframe tbody tr th {\n",
       "        vertical-align: top;\n",
       "    }\n",
       "\n",
       "    .dataframe thead th {\n",
       "        text-align: right;\n",
       "    }\n",
       "</style>\n",
       "<table border=\"1\" class=\"dataframe\">\n",
       "  <thead>\n",
       "    <tr style=\"text-align: right;\">\n",
       "      <th></th>\n",
       "      <th>Title</th>\n",
       "      <th>Serving</th>\n",
       "      <th>Cook_time</th>\n",
       "      <th>Ingredients</th>\n",
       "      <th>Number of ingredients</th>\n",
       "      <th>Link</th>\n",
       "    </tr>\n",
       "  </thead>\n",
       "  <tbody>\n",
       "    <tr>\n",
       "      <th>0</th>\n",
       "      <td>Gnocchi Ragu</td>\n",
       "      <td></td>\n",
       "      <td>1 hour 15 minutes</td>\n",
       "      <td>800g Gnocchi1 Brown Onion2 Celery Sticks2 Carr...</td>\n",
       "      <td>2</td>\n",
       "      <td>http://www.mobkitchen.co.uk/recipes/gnocchi-ragu</td>\n",
       "    </tr>\n",
       "    <tr>\n",
       "      <th>0</th>\n",
       "      <td>Chicken Soba Noodle Salad</td>\n",
       "      <td></td>\n",
       "      <td></td>\n",
       "      <td>400g of Soba Noodles4 Chicken Breasts2 Peppers...</td>\n",
       "      <td>3</td>\n",
       "      <td>http://www.mobkitchen.co.uk/recipes/chicken-so...</td>\n",
       "    </tr>\n",
       "    <tr>\n",
       "      <th>0</th>\n",
       "      <td>Mighty Mushroom Mac &amp; Cheese</td>\n",
       "      <td></td>\n",
       "      <td>40 minutes</td>\n",
       "      <td>1 Bunch of Parsley 1 Bunch of Thyme 300g of Ch...</td>\n",
       "      <td>2</td>\n",
       "      <td>http://www.mobkitchen.co.uk/recipes/mighty-mus...</td>\n",
       "    </tr>\n",
       "    <tr>\n",
       "      <th>0</th>\n",
       "      <td>The Ultimate Meatless Kebab</td>\n",
       "      <td></td>\n",
       "      <td>ngredients</td>\n",
       "      <td>400g of Plain Flour 350g of Coconut Yogurt 1 T...</td>\n",
       "      <td>2</td>\n",
       "      <td>http://www.mobkitchen.co.uk/recipes/the-ultima...</td>\n",
       "    </tr>\n",
       "    <tr>\n",
       "      <th>0</th>\n",
       "      <td>Balsamic Glazed Meatless Meatballs</td>\n",
       "      <td></td>\n",
       "      <td>ngredients</td>\n",
       "      <td>400g of Spaghetti 2 Garlic Cloves 2 Tablespoon...</td>\n",
       "      <td>2</td>\n",
       "      <td>http://www.mobkitchen.co.uk/recipes/balsamic-g...</td>\n",
       "    </tr>\n",
       "  </tbody>\n",
       "</table>\n",
       "</div>"
      ],
      "text/plain": [
       "                                Title Serving          Cook_time  \\\n",
       "0                        Gnocchi Ragu          1 hour 15 minutes   \n",
       "0           Chicken Soba Noodle Salad                              \n",
       "0        Mighty Mushroom Mac & Cheese                40 minutes    \n",
       "0         The Ultimate Meatless Kebab                ngredients    \n",
       "0  Balsamic Glazed Meatless Meatballs                ngredients    \n",
       "\n",
       "                                         Ingredients  Number of ingredients  \\\n",
       "0  800g Gnocchi1 Brown Onion2 Celery Sticks2 Carr...                      2   \n",
       "0  400g of Soba Noodles4 Chicken Breasts2 Peppers...                      3   \n",
       "0  1 Bunch of Parsley 1 Bunch of Thyme 300g of Ch...                      2   \n",
       "0  400g of Plain Flour 350g of Coconut Yogurt 1 T...                      2   \n",
       "0  400g of Spaghetti 2 Garlic Cloves 2 Tablespoon...                      2   \n",
       "\n",
       "                                                Link  \n",
       "0   http://www.mobkitchen.co.uk/recipes/gnocchi-ragu  \n",
       "0  http://www.mobkitchen.co.uk/recipes/chicken-so...  \n",
       "0  http://www.mobkitchen.co.uk/recipes/mighty-mus...  \n",
       "0  http://www.mobkitchen.co.uk/recipes/the-ultima...  \n",
       "0  http://www.mobkitchen.co.uk/recipes/balsamic-g...  "
      ]
     },
     "execution_count": 245,
     "metadata": {},
     "output_type": "execute_result"
    }
   ],
   "source": [
    "mobkitchen_missing_recipes.head()"
   ]
  },
  {
   "cell_type": "code",
   "execution_count": 246,
   "metadata": {},
   "outputs": [
    {
     "name": "stdout",
     "output_type": "stream",
     "text": [
      "<class 'pandas.core.frame.DataFrame'>\n",
      "Int64Index: 240 entries, 0 to 0\n",
      "Data columns (total 6 columns):\n",
      "Title                    240 non-null object\n",
      "Serving                  240 non-null object\n",
      "Cook_time                240 non-null object\n",
      "Ingredients              240 non-null object\n",
      "Number of ingredients    240 non-null int64\n",
      "Link                     240 non-null object\n",
      "dtypes: int64(1), object(5)\n",
      "memory usage: 13.1+ KB\n"
     ]
    }
   ],
   "source": [
    "mobkitchen_missing_recipes.info()"
   ]
  },
  {
   "cell_type": "code",
   "execution_count": 247,
   "metadata": {},
   "outputs": [],
   "source": [
    "mob_all = mob_recipes.append(mobkitchen_missing_recipes) "
   ]
  },
  {
   "cell_type": "code",
   "execution_count": 248,
   "metadata": {},
   "outputs": [
    {
     "name": "stdout",
     "output_type": "stream",
     "text": [
      "<class 'pandas.core.frame.DataFrame'>\n",
      "Int64Index: 369 entries, 0 to 0\n",
      "Data columns (total 6 columns):\n",
      "Title                    369 non-null object\n",
      "Serving                  369 non-null object\n",
      "Cook_time                369 non-null object\n",
      "Ingredients              369 non-null object\n",
      "Number of ingredients    369 non-null int64\n",
      "Link                     369 non-null object\n",
      "dtypes: int64(1), object(5)\n",
      "memory usage: 20.2+ KB\n"
     ]
    }
   ],
   "source": [
    "mob_all.info()"
   ]
  },
  {
   "cell_type": "code",
   "execution_count": 249,
   "metadata": {},
   "outputs": [],
   "source": [
    "mob_all.to_csv('mob_all_recipes.csv')"
   ]
  },
  {
   "cell_type": "markdown",
   "metadata": {},
   "source": [
    "### Showing the Working out\n",
    "- The website format must of changed as some of the older recipes have the estimated price\n",
    "- As the prices have been conistently given to 2.dp we can slide each ingredient string (see below)"
   ]
  },
  {
   "cell_type": "code",
   "execution_count": 165,
   "metadata": {},
   "outputs": [
    {
     "data": {
      "text/plain": [
       "'500g of Pork Mince - £1.891 Large Avocado - £1.004 Tomatoes - £0.62Garlic - £0.302 Brown Onions - £0.321 Red Pepper - £0.501 Lime - £0.30Smoked Paprika - £0.851 Tin of Cirio Chopped Tomatoes - £0.501 Bunch of Coriander - £0.70Taco Shells - £1.54Total Cost - £8.52 - This covers absolutely everything. All we assume you have in your kitchen beforehand is SALT, PEPPER AND OLIVE OIL.'"
      ]
     },
     "execution_count": 165,
     "metadata": {},
     "output_type": "execute_result"
    }
   ],
   "source": [
    "url = 'http://www.mobkitchen.co.uk/recipes/smoky-pork-tacos'\n",
    "req = Request(url, headers={'User-Agent': 'Mozilla/5.0 (Windows NT 10.0; Win64; x64) AppleWebKit/537.36 (KHTML, like Gecko) Chrome/70.0.3538.102 Safari/537.36'})\n",
    "webpage = urlopen(req).read()\n",
    "soup = BeautifulSoup(webpage, \"html.parser\")\n",
    "title = soup.findAll(\"ul\", class_=\"\")\n",
    "y = [x.text for x in title]\n",
    "y = \",\".join(y)\n",
    "y"
   ]
  },
  {
   "cell_type": "code",
   "execution_count": 202,
   "metadata": {},
   "outputs": [
    {
     "data": {
      "text/plain": [
       "['500g of Pork Mince ',\n",
       " ' £1.891 Large Avocado ',\n",
       " ' £1.004 Tomatoes ',\n",
       " ' £0.62Garlic ',\n",
       " ' £0.302 Brown Onions ',\n",
       " ' £0.321 Red Pepper ',\n",
       " ' £0.501 Lime ',\n",
       " ' £0.30Smoked Paprika ',\n",
       " ' £0.851 Tin of Cirio Chopped Tomatoes ',\n",
       " ' £0.501 Bunch of Coriander ',\n",
       " ' £0.70Taco Shells ',\n",
       " ' £1.54Total Cost ',\n",
       " ' £8.52 ',\n",
       " ' This covers absolutely everything. All we assume you have in your kitchen beforehand is SALT, PEPPER AND OLIVE OIL.']"
      ]
     },
     "execution_count": 202,
     "metadata": {},
     "output_type": "execute_result"
    }
   ],
   "source": [
    "url = 'http://www.mobkitchen.co.uk/recipes/smoky-pork-tacos'\n",
    "req = Request(url, headers={'User-Agent': 'Mozilla/5.0 (Windows NT 10.0; Win64; x64) AppleWebKit/537.36 (KHTML, like Gecko) Chrome/70.0.3538.102 Safari/537.36'})\n",
    "webpage = urlopen(req).read()\n",
    "soup = BeautifulSoup(webpage, \"html.parser\")\n",
    "title = soup.findAll(\"ul\", class_=\"\")\n",
    "y = [x.text.split('-') for x in title][0]\n",
    "y"
   ]
  },
  {
   "cell_type": "code",
   "execution_count": 189,
   "metadata": {},
   "outputs": [
    {
     "data": {
      "text/plain": [
       "['1 Large Avocado ',\n",
       " '4 Tomatoes ',\n",
       " 'Garlic ',\n",
       " '2 Brown Onions ',\n",
       " '1 Red Pepper ',\n",
       " '1 Lime ',\n",
       " 'Smoked Paprika ',\n",
       " '1 Tin of Cirio Chopped Tomatoes ',\n",
       " '1 Bunch of Coriander ',\n",
       " 'Taco Shells ',\n",
       " 'Total Cost ',\n",
       " ' ',\n",
       " 'covers absolutely everything. All we assume you have in your kitchen beforehand is SALT, PEPPER AND OLIVE OIL.']"
      ]
     },
     "execution_count": 189,
     "metadata": {},
     "output_type": "execute_result"
    }
   ],
   "source": [
    "url = 'http://www.mobkitchen.co.uk/recipes/smoky-pork-tacos'\n",
    "req = Request(url, headers={'User-Agent': 'Mozilla/5.0 (Windows NT 10.0; Win64; x64) AppleWebKit/537.36 (KHTML, like Gecko) Chrome/70.0.3538.102 Safari/537.36'})\n",
    "webpage = urlopen(req).read()\n",
    "soup = BeautifulSoup(webpage, \"html.parser\")\n",
    "title = soup.findAll(\"ul\", class_=\"\")\n",
    "y = [x.text.split('-') for x in title][0]\n",
    "clean = [x[6:] for x in y]\n",
    "clean[1:]"
   ]
  },
  {
   "cell_type": "code",
   "execution_count": 234,
   "metadata": {},
   "outputs": [
    {
     "data": {
      "text/plain": [
       "'500g of Pork Mince, 1 Large Avocado, 4 Tomatoes, Garlic, 2 Brown Onions, 1 Red Pepper, 1 Lime, Smoked Paprika, 1 Tin of Cirio Chopped Tomatoes, 1 Bunch of Coriander, Taco Shells, SALT, PEPPER, OLIVE OIL.'"
      ]
     },
     "execution_count": 234,
     "metadata": {},
     "output_type": "execute_result"
    }
   ],
   "source": [
    "url = 'http://www.mobkitchen.co.uk/recipes/smoky-pork-tacos'\n",
    "req = Request(url, headers={'User-Agent': 'Mozilla/5.0 (Windows NT 10.0; Win64; x64) AppleWebKit/537.36 (KHTML, like Gecko) Chrome/70.0.3538.102 Safari/537.36'})\n",
    "webpage = urlopen(req).read()\n",
    "soup = BeautifulSoup(webpage, \"html.parser\")\n",
    "ingred = soup.findAll(\"ul\", class_=\"\")\n",
    "ingred = [x.text.split('-') for x in ingred][0]\n",
    "clean = [x[6:] for x in ingred]\n",
    "clean = clean[1:]\n",
    "x = \", \".join(clean)\n",
    "ingred2 = x.replace('Total Cost ,  , covers absolutely everything. All we assume you have in your kitchen beforehand is ', '').replace(' AND ',', ')\n",
    "ingredients_2 = ingred[0] + ', ' + ingred2\n",
    "ingredients_2.replace(' , ', ', ')"
   ]
  },
  {
   "cell_type": "code",
   "execution_count": 216,
   "metadata": {},
   "outputs": [
    {
     "data": {
      "text/plain": [
       "['NOTES:',\n",
       " 'COOKING TIME (INCLUDES PREPARATION TIME): 30 MINUTES',\n",
       " 'FEEDS: 4 PEOPLE',\n",
       " 'INGREDIENTS:',\n",
       " 'METHOD:',\n",
       " 'Share With The Mob:']"
      ]
     },
     "execution_count": 216,
     "metadata": {},
     "output_type": "execute_result"
    }
   ],
   "source": [
    "url = 'http://www.mobkitchen.co.uk/recipes/smoky-pork-tacos'\n",
    "req = Request(url, headers={'User-Agent': 'Mozilla/5.0 (Windows NT 10.0; Win64; x64) AppleWebKit/537.36 (KHTML, like Gecko) Chrome/70.0.3538.102 Safari/537.36'})\n",
    "webpage = urlopen(req).read()\n",
    "soup = BeautifulSoup(webpage, \"html.parser\")\n",
    "feeds_time = soup.findAll(\"h3\", class_=\"\")\n",
    "feeds_time = [x.text for x in feeds_time]\n",
    "feeds_time"
   ]
  },
  {
   "cell_type": "code",
   "execution_count": 217,
   "metadata": {},
   "outputs": [
    {
     "data": {
      "text/plain": [
       "'30 minutes'"
      ]
     },
     "execution_count": 217,
     "metadata": {},
     "output_type": "execute_result"
    }
   ],
   "source": [
    "time1 = feeds_time[1]\n",
    "time1 = time1.split(':')\n",
    "time1 = time1[-1]\n",
    "time1[1:].lower()"
   ]
  },
  {
   "cell_type": "code",
   "execution_count": 218,
   "metadata": {},
   "outputs": [
    {
     "data": {
      "text/plain": [
       "'4'"
      ]
     },
     "execution_count": 218,
     "metadata": {},
     "output_type": "execute_result"
    }
   ],
   "source": [
    "feeds = feeds_time[2]\n",
    "feeds = re.findall(r'\\b\\d+\\b', feeds)\n",
    "feeds = \"\".join(feeds)\n",
    "feeds"
   ]
  }
 ],
 "metadata": {
  "kernelspec": {
   "display_name": "Python 3",
   "language": "python",
   "name": "python3"
  },
  "language_info": {
   "codemirror_mode": {
    "name": "ipython",
    "version": 3
   },
   "file_extension": ".py",
   "mimetype": "text/x-python",
   "name": "python",
   "nbconvert_exporter": "python",
   "pygments_lexer": "ipython3",
   "version": "3.7.1"
  }
 },
 "nbformat": 4,
 "nbformat_minor": 2
}
